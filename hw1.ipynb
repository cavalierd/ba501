{
 "cells": [
  {
   "cell_type": "markdown",
   "metadata": {
    "collapsed": true,
    "deletable": true,
    "editable": true
   },
   "source": [
    "## First Class \n",
    "\n",
    "### Question 1<br>\n",
    "How do you handle duplicate values in a dataset in Python?"
   ]
  },
  {
   "cell_type": "code",
   "execution_count": null,
   "metadata": {
    "collapsed": true
   },
   "outputs": [],
   "source": [
    "# remove all duplicates value except first one\n",
    "df = df.drop_duplicates(keep=\"first\", inplace=True)"
   ]
  },
  {
   "cell_type": "markdown",
   "metadata": {},
   "source": [
    "### Question 2<br>\n",
    "You are given two tables - friend_request and request_accepted. Friend_request contains requester_id, time and sent_to_id and request_accepted table contains time, acceptor_id and requestor_id. How will you determine the overall acceptance rate of requests? "
   ]
  },
  {
   "cell_type": "code",
   "execution_count": null,
   "metadata": {
    "collapsed": true
   },
   "outputs": [],
   "source": [
    "# python solution\n",
    "# assume one request_accepted record would most have only one friend_request to match\n",
    "# that means excluding situation that one accept record could have multiple request records  \n",
    "\n",
    "# merge to get all the records related to request table\n",
    "df_temp = df_request.merge(df_accept, how='left')\n",
    "\n",
    "# rename coloumn\n",
    "df_temp.columns = ['requester_id', 'time1', 'sent_to_id', 'time2', 'acceptor_id', 'requestor_id']\n",
    "\n",
    "# create mask to filter out unqualified records\n",
    "mask = (df_temp.requester_id == df_temp.requestor_id) \n",
    "        and (df_temp.sent_to_id == df_temp.acceptor_id)\n",
    "        and (df_temp.time1 == df.time2)\n",
    "        \n",
    "# get target df\n",
    "df_target = df_temp.ix[maks,:]\n",
    "\n",
    "# overall acceptance rate\n",
    "accept_rate = len(df_target)/len(df_request) * 1.0"
   ]
  },
  {
   "cell_type": "markdown",
   "metadata": {},
   "source": [
    "### Question 3<br>\n",
    "Do some research and summarize the business model of your dream company, or company that you interview with.\n",
    "What is the product?\n",
    "Who are the customer?\n",
    "How do they make money?\n",
    "Why do you want to work for this company?\n",
    "(Optional) If you were CEO, what would you do to increase company’s revenue in the next 5 years?\n"
   ]
  },
  {
   "cell_type": "markdown",
   "metadata": {},
   "source": [
    "<b>Company</b>: <br>Facebook<br>\n",
    "<b>What is the product:</b> <br>Facebook's targeted advertising<br>\n",
    "<b>Who are the customer:</b><br> Group or individual who would like to reach their targeted  customer<br>\n",
    "<b>How do they make money: </b><br>Revenue from advertising<br>\n",
    "<b>Why do you want to work for this company:</b><br> To maximize its advertising effect and accurately make advertising for customers, Facebook has to understand its users(not customers) from users behavior such as what are they said, what are they posted, what are they followed, what are they liked and so on. Because of that, Facebook needs data analyst or business analyst to keep its product in a reasonable performance level. As a data analyst or bueinss analyst in Facebook, I could get a opportunity to maximize my value.  "
   ]
  },
  {
   "cell_type": "markdown",
   "metadata": {},
   "source": [
    "## Second Class\n",
    "\n",
    "### Question 1<br>\n",
    "Similarly to PrintDailyTimeSeries() in the sample code, write a Python function called PrintCumulativeTimeSeries(). Specifically:\n",
    " \n",
    "The function takes three inputs:\n",
    "* experiment_id\n",
    "* country\n",
    "* vertical\n",
    " \n",
    "The function produces two outputs:\n",
    "* A time series chart showing the cumulative uplift (hint: search for cumsum)\n",
    "* Print out the cumulative % uplift on revenue, experiment vs. control. Hint: (red - blue) / blue %\n"
   ]
  },
  {
   "cell_type": "code",
   "execution_count": 39,
   "metadata": {
    "collapsed": true
   },
   "outputs": [],
   "source": [
    "# import library\n",
    "import numpy as np\n",
    "import pandas as pd\n",
    "import matplotlib.pyplot as plt\n",
    "%matplotlib inline"
   ]
  },
  {
   "cell_type": "code",
   "execution_count": 29,
   "metadata": {
    "collapsed": false
   },
   "outputs": [],
   "source": [
    "# import data\n",
    "file_name = 'orders_new.csv'\n",
    "my_data = pd.read_csv(file_name)"
   ]
  },
  {
   "cell_type": "code",
   "execution_count": 31,
   "metadata": {
    "collapsed": false,
    "scrolled": true
   },
   "outputs": [
    {
     "data": {
      "text/html": [
       "<div>\n",
       "<table border=\"1\" class=\"dataframe\">\n",
       "  <thead>\n",
       "    <tr style=\"text-align: right;\">\n",
       "      <th></th>\n",
       "      <th>country</th>\n",
       "      <th>date</th>\n",
       "      <th>experiment_id</th>\n",
       "      <th>order_id</th>\n",
       "      <th>spend_usd</th>\n",
       "      <th>user_id</th>\n",
       "      <th>vertical</th>\n",
       "    </tr>\n",
       "  </thead>\n",
       "  <tbody>\n",
       "    <tr>\n",
       "      <th>0</th>\n",
       "      <td>US</td>\n",
       "      <td>2017-04-02</td>\n",
       "      <td>12624549</td>\n",
       "      <td>6720123150182430132</td>\n",
       "      <td>49.99</td>\n",
       "      <td>3659561261588336546</td>\n",
       "      <td>ANDROID_APPS</td>\n",
       "    </tr>\n",
       "    <tr>\n",
       "      <th>1</th>\n",
       "      <td>US</td>\n",
       "      <td>2017-04-01</td>\n",
       "      <td>12624549</td>\n",
       "      <td>17511438899767627798</td>\n",
       "      <td>0.99</td>\n",
       "      <td>3659561261588336546</td>\n",
       "      <td>ANDROID_APPS</td>\n",
       "    </tr>\n",
       "    <tr>\n",
       "      <th>2</th>\n",
       "      <td>US</td>\n",
       "      <td>2017-04-04</td>\n",
       "      <td>12624549</td>\n",
       "      <td>1549342062436664018</td>\n",
       "      <td>39.99</td>\n",
       "      <td>3659561261588336546</td>\n",
       "      <td>ANDROID_APPS</td>\n",
       "    </tr>\n",
       "    <tr>\n",
       "      <th>3</th>\n",
       "      <td>US</td>\n",
       "      <td>2017-04-04</td>\n",
       "      <td>12624549</td>\n",
       "      <td>7771425263197855716</td>\n",
       "      <td>19.99</td>\n",
       "      <td>3659561261588336546</td>\n",
       "      <td>ANDROID_APPS</td>\n",
       "    </tr>\n",
       "    <tr>\n",
       "      <th>4</th>\n",
       "      <td>US</td>\n",
       "      <td>2017-04-01</td>\n",
       "      <td>12624549</td>\n",
       "      <td>17943210556580942992</td>\n",
       "      <td>19.99</td>\n",
       "      <td>3659561261588336546</td>\n",
       "      <td>ANDROID_APPS</td>\n",
       "    </tr>\n",
       "  </tbody>\n",
       "</table>\n",
       "</div>"
      ],
      "text/plain": [
       "  country        date  experiment_id              order_id  spend_usd  \\\n",
       "0      US  2017-04-02       12624549   6720123150182430132      49.99   \n",
       "1      US  2017-04-01       12624549  17511438899767627798       0.99   \n",
       "2      US  2017-04-04       12624549   1549342062436664018      39.99   \n",
       "3      US  2017-04-04       12624549   7771425263197855716      19.99   \n",
       "4      US  2017-04-01       12624549  17943210556580942992      19.99   \n",
       "\n",
       "               user_id      vertical  \n",
       "0  3659561261588336546  ANDROID_APPS  \n",
       "1  3659561261588336546  ANDROID_APPS  \n",
       "2  3659561261588336546  ANDROID_APPS  \n",
       "3  3659561261588336546  ANDROID_APPS  \n",
       "4  3659561261588336546  ANDROID_APPS  "
      ]
     },
     "execution_count": 31,
     "metadata": {},
     "output_type": "execute_result"
    }
   ],
   "source": [
    "my_data.head()"
   ]
  },
  {
   "cell_type": "code",
   "execution_count": 38,
   "metadata": {
    "collapsed": false
   },
   "outputs": [
    {
     "data": {
      "text/plain": [
       "date\n",
       "2017-04-01     18826.945113\n",
       "2017-04-02     33894.437889\n",
       "2017-04-03     47270.906778\n",
       "2017-04-04     60597.319723\n",
       "2017-04-05     75427.961912\n",
       "2017-04-06     93143.172837\n",
       "2017-04-07    111053.627316\n",
       "Name: spend_usd, dtype: float64"
      ]
     },
     "execution_count": 38,
     "metadata": {},
     "output_type": "execute_result"
    }
   ],
   "source": [
    "# test code\n",
    "my_country = 'US'\n",
    "my_id = 12624549\n",
    "my_vertical = 'ANDROID_APPS'\n",
    "mask = (my_data.country == my_country) & (my_data.experiment_id == my_id) & (my_data.vertical == my_vertical)\n",
    "temp = my_data.ix[mask,['date','spend_usd']]\n",
    "temp.groupby('date')['spend_usd'].sum()\n",
    "temp_plot = temp.groupby('date')['spend_usd'].sum().cumsum()\n",
    "temp_plot"
   ]
  },
  {
   "cell_type": "code",
   "execution_count": 45,
   "metadata": {
    "collapsed": false,
    "deletable": true,
    "editable": true
   },
   "outputs": [
    {
     "data": {
      "text/plain": [
       "<matplotlib.axes._subplots.AxesSubplot at 0xa5ea8d0>"
      ]
     },
     "execution_count": 45,
     "metadata": {},
     "output_type": "execute_result"
    },
    {
     "data": {
      "image/png": "[encoded data removed]",
      "text/plain": [
       "<matplotlib.figure.Figure at 0xa733780>"
      ]
     },
     "metadata": {},
     "output_type": "display_data"
    }
   ],
   "source": [
    "# test code\n",
    "df = pd.DataFrame(\n",
    "    {\n",
    "        'experiment': temp_plot.tolist()\n",
    "    },\n",
    "    index = temp_plot.index.tolist(),\n",
    "    columns = ['experiment']\n",
    ")\n",
    "df.plot()"
   ]
  },
  {
   "cell_type": "code",
   "execution_count": 33,
   "metadata": {
    "collapsed": true
   },
   "outputs": [],
   "source": [
    "def GetSeries(df, my_id, my_country, my_vertical):\n",
    "    mask = (df.country == my_country) & (df.experiment_id == my_id) & (df.vertical == my_vertical)\n",
    "    temp = df.ix[mask,['date','spend_usd']]\n",
    "    series = temp.groupby('date')['spend_usd'].sum().cumsum()\n",
    "    return(series)"
   ]
  },
  {
   "cell_type": "code",
   "execution_count": 40,
   "metadata": {
    "collapsed": true
   },
   "outputs": [],
   "source": [
    "def PlotSeries(index_series, experiment_series):\n",
    "    df = pd.DataFrame(\n",
    "        {\n",
    "            'experiment': experiment_series.tolist()\n",
    "        },\n",
    "        index = index_series.tolist(),\n",
    "        columns = ['experiment']\n",
    "    )\n",
    "    df.plot()"
   ]
  },
  {
   "cell_type": "code",
   "execution_count": 43,
   "metadata": {
    "collapsed": true
   },
   "outputs": [],
   "source": [
    "def PrintCumulativeTimeSeries(df, my_id, my_country, my_vertical):\n",
    "    data_series = df.date\n",
    "    index_series = np.unique(data_series)\n",
    "    index_series = np.sort(index_series)\n",
    "    \n",
    "    df = df.sort_values('date', ascending=True, inplace=False)\n",
    "    experiment_series = GetSeries(df, my_id, my_country, my_vertical)\n",
    "    PlotSeries(index_series, experiment_series)"
   ]
  },
  {
   "cell_type": "code",
   "execution_count": 44,
   "metadata": {
    "collapsed": false
   },
   "outputs": [
    {
     "data": {
      "image/png": "[encoded data removed]",
      "text/plain": [
       "<matplotlib.figure.Figure at 0xa25c588>"
      ]
     },
     "metadata": {},
     "output_type": "display_data"
    }
   ],
   "source": [
    "PrintCumulativeTimeSeries(my_data, 12624549, 'US', 'ANDROID_APPS')"
   ]
  },
  {
   "cell_type": "markdown",
   "metadata": {},
   "source": [
    "### Question 2<br>\n",
    "Using our data, draw a histogram which plots both US and JP data on the same plot."
   ]
  },
  {
   "cell_type": "code",
   "execution_count": 49,
   "metadata": {
    "collapsed": false
   },
   "outputs": [
    {
     "data": {
      "image/png": "[encoded data removed]",
      "text/plain": [
       "<matplotlib.figure.Figure at 0xce068d0>"
      ]
     },
     "metadata": {},
     "output_type": "display_data"
    }
   ],
   "source": [
    "my_series_jp = my_data[\"spend_usd\"][(my_data.spend_usd < 20) & (my_data.country == \"JP\")]\n",
    "my_series_us = my_data[\"spend_usd\"][(my_data.spend_usd < 20) & (my_data.country == \"US\")]\n",
    "\n",
    "fig, ax = plt.subplots()\n",
    "\n",
    "ax.hist(my_series_us, bins=20, color='red', label='us')\n",
    "ax.hist(my_series_jp, bins=20, color='blue', label='jp')\n",
    "\n",
    "ax.set_title('US VS JP')\n",
    "ax.set_ylabel(\"Total spend\")\n",
    "ax.grid(True, which=\"both\")\n"
   ]
  },
  {
   "cell_type": "markdown",
   "metadata": {},
   "source": [
    "### Question 3<br>\n",
    "Write a function that can plot 10 (instead of 2) time series in our data"
   ]
  },
  {
   "cell_type": "markdown",
   "metadata": {},
   "source": [
    "Solution Idea: <br>\n",
    "write a for loop in PrintCumulativeTimeSeries() to identify how long the input list is and take each of series with GetSeries()."
   ]
  }
 ],
 "metadata": {
  "kernelspec": {
   "display_name": "Python 2",
   "language": "python",
   "name": "python2"
  },
  "language_info": {
   "codemirror_mode": {
    "name": "ipython",
    "version": 2
   },
   "file_extension": ".py",
   "mimetype": "text/x-python",
   "name": "python",
   "nbconvert_exporter": "python",
   "pygments_lexer": "ipython2",
   "version": "2.7.13"
  }
 },
 "nbformat": 4,
 "nbformat_minor": 2
}
